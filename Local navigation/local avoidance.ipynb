{
 "cells": [
  {
   "cell_type": "code",
   "execution_count": 5,
   "metadata": {},
   "outputs": [
    {
     "name": "stdout",
     "output_type": "stream",
     "text": [
      "Collecting ipynb\n",
      "  Downloading ipynb-0.5.1-py3-none-any.whl (6.9 kB)\n",
      "Installing collected packages: ipynb\n",
      "Successfully installed ipynb-0.5.1\n",
      "Note: you may need to restart the kernel to use updated packages.\n"
     ]
    }
   ],
   "source": [
    "pip install ipynb"
   ]
  },
  {
   "cell_type": "code",
   "execution_count": 3,
   "metadata": {},
   "outputs": [],
   "source": [
    "import tdmclient.notebook\n",
    "await tdmclient.notebook.start()"
   ]
  },
  {
   "cell_type": "markdown",
   "metadata": {},
   "source": [
    "# nouvelle version avec client async"
   ]
  },
  {
   "cell_type": "code",
   "execution_count": 21,
   "metadata": {},
   "outputs": [
    {
     "data": {
      "text/plain": [
       "Node ead09851-d017-4f29-9675-b6d205028bc6"
      ]
     },
     "execution_count": 21,
     "metadata": {},
     "output_type": "execute_result"
    }
   ],
   "source": [
    "from tdmclient import ClientAsync, aw\n",
    "client = ClientAsync()\n",
    "node = await client.wait_for_node()\n",
    "await node.lock()"
   ]
  },
  {
   "cell_type": "code",
   "execution_count": null,
   "metadata": {},
   "outputs": [],
   "source": [
    "utiliser time.perf (librairie) pour avoir une référence temporelle pour faire tourner le kalman filter"
   ]
  },
  {
   "cell_type": "code",
   "execution_count": null,
   "metadata": {},
   "outputs": [],
   "source": []
  },
  {
   "cell_type": "code",
   "execution_count": 4,
   "metadata": {},
   "outputs": [],
   "source": [
    "await tdmclient.notebook.stop()"
   ]
  },
  {
   "cell_type": "code",
   "execution_count": null,
   "metadata": {},
   "outputs": [],
   "source": []
  },
  {
   "cell_type": "code",
   "execution_count": null,
   "metadata": {},
   "outputs": [],
   "source": []
  },
  {
   "cell_type": "code",
   "execution_count": null,
   "metadata": {},
   "outputs": [],
   "source": []
  },
  {
   "cell_type": "code",
   "execution_count": 1,
   "metadata": {},
   "outputs": [],
   "source": [
    "from tdmclient import ClientAsync\n",
    "client = ClientAsync()\n",
    "node = await client.wait_for_node()\n",
    "await node.lock()\n",
    "\n",
    "test_functions = False"
   ]
  },
  {
   "cell_type": "code",
   "execution_count": 2,
   "metadata": {},
   "outputs": [],
   "source": [
    "await node.wait_for_variables()\n",
    "#node.var"
   ]
  },
  {
   "cell_type": "code",
   "execution_count": 3,
   "metadata": {},
   "outputs": [
    {
     "name": "stdout",
     "output_type": "stream",
     "text": [
      "[548, 423]\n",
      "[548, 421]\n",
      "[548, 423]\n",
      "[547, 422]\n",
      "[549, 422]\n",
      "[548, 421]\n",
      "[548, 423]\n",
      "[548, 422]\n",
      "[549, 423]\n",
      "[547, 422]\n"
     ]
    }
   ],
   "source": [
    "async def print_sensor_values(sensor_id, print_range=10, delta_time=0.2):\n",
    "    \"\"\"\n",
    "    Print the sensor value sensor_id print_range times, every delta_time seconds\n",
    "    \"\"\"\n",
    "    await node.wait_for_variables({str(sensor_id)})\n",
    "    for i in range(print_range):\n",
    "        print(list(node[sensor_id]))\n",
    "        await client.sleep(delta_time)\n",
    "        \n",
    "await print_sensor_values('prox.ground.reflected')"
   ]
  },
  {
   "cell_type": "code",
   "execution_count": 3,
   "metadata": {},
   "outputs": [],
   "source": [
    "def motors(l_speed=500, r_speed=500, verbose=False):\n",
    "    \"\"\"\n",
    "    Sets the motor speeds of the Thymio \n",
    "    param l_speed: left motor speed\n",
    "    param r_speed: right motor speed\n",
    "    param verbose: whether to print status messages or not\n",
    "    \"\"\"\n",
    "    # Printing the speeds if requested\n",
    "    if verbose:\n",
    "        print(\"\\t\\t Setting speed : \", l_speed, r_speed)\n",
    "    return {\n",
    "        \"motor.left.target\": [l_speed],\n",
    "        \"motor.right.target\": [r_speed],\n",
    "    }\n",
    "\n",
    "if test_functions:\n",
    "    await node.set_variables(motors(100, 100)) #test with lower speed value\n",
    "    await client.sleep(2)\n",
    "    await node.set_variables(motors(0, 0))"
   ]
  },
  {
   "cell_type": "code",
   "execution_count": 4,
   "metadata": {},
   "outputs": [],
   "source": [
    "async def go_straight(motor_speed=100, duration=5, verbose=False):\n",
    "    \"\"\"\n",
    "    goes straight for a certain duration\n",
    "    \"\"\"\n",
    "    if verbose: print(\"Starting go straight behaviour\")\n",
    "        \n",
    "    await node.set_variables(motors(motor_speed, motor_speed)) #test with lower speed value\n",
    "    await client.sleep(duration)\n",
    "    await node.set_variables(motors(0, 0))\n",
    "    \n",
    "if test_functions:\n",
    "    await go_straight(200,5,True)"
   ]
  },
  {
   "cell_type": "code",
   "execution_count": 5,
   "metadata": {},
   "outputs": [],
   "source": [
    "def test_see_nothing(close_threshold=1, verbose=False):\n",
    "    \"\"\"\n",
    "    tests if the three middle sensors see nothing\n",
    "    \"\"\"\n",
    "    if any([x>close_threshold for x in node['prox.horizontal'][1:-3]]):\n",
    "        return False\n",
    "    if verbose: print(\"\\t\\t degagé de l'obstacle\")\n",
    "    return True"
   ]
  },
  {
   "cell_type": "code",
   "execution_count": 6,
   "metadata": {},
   "outputs": [],
   "source": [
    "async def NN_avoid(motor_speed=100, sensor_scale=400, verbose=False):\n",
    "    global side\n",
    "    \"\"\"\n",
    "    avoids obstacle with neural network\n",
    "    \"\"\"\n",
    "    see_nothing = False\n",
    "    y = [0,0] \n",
    "    \n",
    "    while not see_nothing:\n",
    "        #asymetric w_l[1] != w_r[1] so the robot choses one side if it arrives straight on the obstacle\n",
    "        w_l = [8, -12, -8, 4, 0]\n",
    "        w_r = [-8, -8, 8, 0, 4]\n",
    "\n",
    "        x = [0,0,0,0,0]\n",
    "\n",
    "        if verbose: print(\"Starting avoidance with neural network\")\n",
    "\n",
    "        prox_horizontal = node['prox.horizontal'][:-2]\n",
    "        print(prox_horizontal)\n",
    "        left_prox = prox_horizontal[0]// sensor_scale\n",
    "        right_prox = prox_horizontal[4]// sensor_scale\n",
    "\n",
    "        # Memory\n",
    "        x[3] = y[0]//10\n",
    "        x[4] = y[1]//10        \n",
    "\n",
    "        for i in range(1,4): #we only take the 3 sensors of the middle\n",
    "            # Get and scale inputs\n",
    "            x[i-1] = prox_horizontal[i] // sensor_scale\n",
    "            \n",
    "        print(x)\n",
    "        \n",
    "        y = [80,80] \n",
    "\n",
    "        for i in range(len(x)):    \n",
    "            # Compute outputs of neurons and set motor powers\n",
    "            y[0] = y[0] + x[i] * w_l[i]\n",
    "            y[1] = y[1] + x[i] * w_r[i]\n",
    "        \n",
    "        print(y)\n",
    "        \n",
    "        await client.sleep(0.1)#let the variables be updated\n",
    "        \n",
    "        if test_see_nothing(1,True): \n",
    "            see_nothing = True\n",
    "            y = [0,0]\n",
    "            if left_prox > 1:\n",
    "                side = 'left'\n",
    "            if right_prox > 1:\n",
    "                side = 'right'\n",
    "                \n",
    "            print(side)\n",
    "            \n",
    "        await node.set_variables(motors(y[0],y[1]))\n",
    "        "
   ]
  },
  {
   "cell_type": "code",
   "execution_count": 7,
   "metadata": {},
   "outputs": [],
   "source": [
    "async def turn(motor_speed=100,sensor_scale=400,  verbose=False):\n",
    "    global side\n",
    "    \"\"\"\n",
    "    turn until obstcale is detected\n",
    "    \"\"\"\n",
    "    adjust = 5\n",
    "    doneTurn = False\n",
    "    y = [0,0] \n",
    "    \n",
    "    \n",
    "    if side == 'none':\n",
    "        print(\"side not set\")\n",
    "        doneTurn = True\n",
    "        \n",
    "    while not doneTurn:\n",
    "        \n",
    "        if verbose: print(\"turning\",side)\n",
    "            \n",
    "        prox_horizontal = node['prox.horizontal'][:-2]\n",
    "        left_prox = prox_horizontal[0]// sensor_scale\n",
    "        right_prox = prox_horizontal[4]// sensor_scale\n",
    "        \n",
    "        print(left_prox)\n",
    "        print(right_prox)\n",
    "        \n",
    "        if side == 'right':\n",
    "            if right_prox <= 1 + adjust:\n",
    "                y = [80,0]\n",
    "            if right_prox > 1 + adjust:\n",
    "                doneTurn = True\n",
    "                print(\"done turn right\")\n",
    "                y = [0,0]\n",
    "        if side == 'left':\n",
    "            if left_prox <= 1 + adjust:\n",
    "                y = [0,80]\n",
    "            if left_prox > 1 + adjust:\n",
    "                doneTurn = True\n",
    "                print(\"done turn left\")\n",
    "                y = [0,0]\n",
    "        await client.sleep(0.1)#let the variables be updated\n",
    "        await node.set_variables(motors(y[0],y[1]))\n",
    "               "
   ]
  },
  {
   "cell_type": "code",
   "execution_count": 8,
   "metadata": {},
   "outputs": [],
   "source": [
    "async def follow_obstacle(motor_speed=100,sensor_scale=400, verbose=False):\n",
    "    global side\n",
    "    \"\"\"\n",
    "    follows the obstacle side until its end\n",
    "    \"\"\"\n",
    "    adjust2 = 2000\n",
    "    constant_scale = 20\n",
    "    doneFollow = False\n",
    "    y = [0,0] \n",
    "    \n",
    "    if side == 'none':\n",
    "        print(\"side not set\")\n",
    "        doneFollow = True\n",
    "        \n",
    "    while not doneFollow:\n",
    "        \n",
    "        if verbose: print(\"following wall\",side)\n",
    "            \n",
    "        prox_horizontal = node['prox.horizontal'][:-2]\n",
    "        left_prox = prox_horizontal[0]// sensor_scale\n",
    "        right_prox = prox_horizontal[4]// sensor_scale\n",
    "        \n",
    "        print(left_prox)\n",
    "        print(right_prox)\n",
    "        \n",
    "        left_prox_adjust = left_prox -adjust2//sensor_scale\n",
    "        right_prox_adjust = right_prox -adjust2//sensor_scale\n",
    "        if side == 'right':\n",
    "            y = [80,80+right_prox_adjust*constant_scale]\n",
    "        if side == 'left':\n",
    "            y = [80+left_prox_adjust*constant_scale,80]\n",
    "        if left_prox < 1 and right_prox < 1:\n",
    "            doneFollow = True\n",
    "            y = [0,0]\n",
    "            \n",
    "        await client.sleep(0.1)#let the variables be updated\n",
    "        await node.set_variables(motors(y[0],y[1]))\n",
    "\n",
    "await follow_obstacle(verbose = True)\n",
    "               "
   ]
  },
  {
   "cell_type": "code",
   "execution_count": 9,
   "metadata": {},
   "outputs": [],
   "source": [
    "async def obstacle_avoidance(verbose=True):\n",
    "    done = False\n",
    "    side = 'none'\n",
    "    while not done:\n",
    "        side = 0;\n",
    "        await NN_avoid(verbose=verbose)\n",
    "        \n",
    "        await go_straight(verbose=verbose)\n",
    "        \n",
    "        await turn(verbose=verbose)\n",
    "        \n",
    "        await follow_obstacle(verbose=verbose)\n",
    "        \n",
    "        await go_straight(verbose=verbose)\n",
    "        \n",
    "        done = True\n",
    "        "
   ]
  },
  {
   "cell_type": "code",
   "execution_count": 11,
   "metadata": {},
   "outputs": [],
   "source": [
    "await obstacle_avoidance()"
   ]
  },
  {
   "cell_type": "markdown",
   "metadata": {},
   "source": [
    "# avec onevent"
   ]
  },
  {
   "cell_type": "code",
   "execution_count": 6,
   "metadata": {
    "ExecuteTime": {
     "end_time": "2021-09-29T14:44:34.108289Z",
     "start_time": "2021-09-29T14:44:33.639295Z"
    }
   },
   "outputs": [],
   "source": [
    "%%run_python #%%transpile_to_aseba # Change to show the code generated in Aseba\n",
    "\n",
    "#IMPORTANT:\n",
    "#this programm needs to be launched only when the obsatcle is already detected\n",
    "#i.e. the sensors already saw something\n",
    "#otherwise it fucks everything up\n",
    "\n",
    "# The center button restarts and stops the robot\n",
    "\n",
    "#sates:\n",
    "#0 the robot stops \n",
    "#1 the robot arrives at the obstacle \n",
    "#  and choses which side to go around goes forward until the sensor chose (1 left or 5 right) doesnt see anythin\n",
    "#2 the robot goes forward approx 1 thymio length\n",
    "#3 the robot rotates until its sensor (1 or 5) sees the obstacle\n",
    "#4 the robot follows the obstaclke on its length until its sees nothin\n",
    "#5 the robot goes forward to completely avoid the obstacle \n",
    "\n",
    "adjust2 = 2000\n",
    "close_thresh = 1\n",
    "time = 0\n",
    "state = 1\n",
    "y = [0,0] \n",
    "timer_period[0] = 10\n",
    "time_one_thym_dist = 150\n",
    "NONE = 0\n",
    "side = NONE \n",
    "constant_scale = 20\n",
    "adjust = 5\n",
    "    \n",
    "@onevent\n",
    "def button_center():\n",
    "    global state\n",
    "    if button_center == 1:\n",
    "        state = 1 if state==0 else 0\n",
    "\n",
    "@onevent\n",
    "def timer0():\n",
    "    global prox_horizontal, motor_left_target, motor_right_target, button_center, state, y, NONE, side, time\n",
    "    #side constants\n",
    "    LEFT = 1\n",
    "    RIGHT = 2\n",
    "    \n",
    "    #asymetric w_l[1] != w_r[1] so the robot choses one side if it arrives straight on the obstacle\n",
    "    w_l = [10, -15, -10, 6, 0]\n",
    "    w_r = [-10, -10, 10, 0, 6]\n",
    "\n",
    "    # Scale factors for sensors and constant factor\n",
    "    sensor_scale = 400\n",
    "    \n",
    "    x = [0,0,0,0,0]\n",
    "    \n",
    "    left_prox = prox_horizontal[0]// sensor_scale\n",
    "    right_prox = prox_horizontal[4]// sensor_scale\n",
    "    \n",
    "### STATE 0 the robot stops###    \n",
    "    if state == 0:\n",
    "        time = 0\n",
    "        y = [0,0]\n",
    "        \n",
    "### STATE 1  the robot arrives at the obstacle and choses which side to go around###         \n",
    "    if state == 1:\n",
    "        # Memory\n",
    "        x[3] = y[0]//10\n",
    "        x[4] = y[1]//10        \n",
    "        \n",
    "        for i in range(1,4): #we only take the 3 sensors of the middle\n",
    "            # Get and scale inputs\n",
    "            x[i-1] = prox_horizontal[i] // sensor_scale\n",
    "            \n",
    "        y = [60,60] \n",
    "        tot = x[0]+x[1]+x[2]\n",
    "        \n",
    "        for i in range(len(x)):    \n",
    "            # Compute outputs of neurons and set motor powers\n",
    "            y[0] = y[0] + x[i] * w_l[i]\n",
    "            y[1] = y[1] + x[i] * w_r[i]\n",
    "        \n",
    "        if tot < close_thresh :#the three middle sensors see nothing\n",
    "            if left_prox > close_thresh:\n",
    "                side = LEFT\n",
    "            if right_prox > close_thresh:\n",
    "                side = RIGHT\n",
    "            if left_prox < close_thresh and right_prox < close_thresh: #the thymio turned and stops only if it sees nothin anymore\n",
    "                state = 2\n",
    "    \n",
    "### STATE 2 and 5 : the robot goes forward approx 1 thymio length ###                   \n",
    "    if state == 2 or state == 5:\n",
    "        time += 1         \n",
    "        if time <= time_one_thym_dist:\n",
    "            y = [160,160]\n",
    "        elif time > time_one_thym_dist:\n",
    "            y = [0,0]\n",
    "            if state == 2:\n",
    "                time = 0\n",
    "                state = 3\n",
    "            if state == 5:\n",
    "                time = 0\n",
    "                state = 0\n",
    "            \n",
    "### STATE 3 the robot rotates until its sensor (1 or 5) sees the obstacle###   \n",
    "    if state == 3: \n",
    "        if side == RIGHT:\n",
    "            if right_prox <= close_thresh + adjust:\n",
    "                y = [160,0]\n",
    "            if right_prox > close_thresh + adjust:\n",
    "                state = 4\n",
    "        if side == LEFT:\n",
    "            if left_prox <= close_thresh + adjust:\n",
    "                y = [0,160]\n",
    "            if left_prox > close_thresh + adjust:\n",
    "                state = 4\n",
    "                \n",
    "### STATE 4 the robot follows the obstacle on its length until its sees nothing###             \n",
    "    if state == 4:\n",
    "        left_prox_adjust = left_prox -adjust2//sensor_scale\n",
    "        right_prox_adjust = right_prox -adjust2//sensor_scale\n",
    "        if side == RIGHT:\n",
    "            y = [80,80+right_prox_adjust*constant_scale]\n",
    "        if side == LEFT:\n",
    "            y = [80+left_prox_adjust*constant_scale,80]\n",
    "        if left_prox < close_thresh and right_prox < close_thresh:\n",
    "            state = 5\n",
    "        \n",
    "    # Set motor powers\n",
    "    motor_left_target = y[0]\n",
    "    motor_right_target = y[1]\n",
    "                \n",
    "            \n",
    "\n",
    "            "
   ]
  },
  {
   "cell_type": "code",
   "execution_count": null,
   "metadata": {},
   "outputs": [],
   "source": []
  },
  {
   "cell_type": "code",
   "execution_count": null,
   "metadata": {},
   "outputs": [],
   "source": []
  }
 ],
 "metadata": {
  "hide_input": false,
  "kernelspec": {
   "display_name": "Python 3 (ipykernel)",
   "language": "python",
   "name": "python3"
  },
  "language_info": {
   "codemirror_mode": {
    "name": "ipython",
    "version": 3
   },
   "file_extension": ".py",
   "mimetype": "text/x-python",
   "name": "python",
   "nbconvert_exporter": "python",
   "pygments_lexer": "ipython3",
   "version": "3.9.7"
  },
  "toc": {
   "base_numbering": 1,
   "nav_menu": {},
   "number_sections": true,
   "sideBar": true,
   "skip_h1_title": false,
   "title_cell": "Table of Contents",
   "title_sidebar": "Contents",
   "toc_cell": true,
   "toc_position": {},
   "toc_section_display": true,
   "toc_window_display": false
  },
  "varInspector": {
   "cols": {
    "lenName": 16,
    "lenType": 16,
    "lenVar": 40
   },
   "kernels_config": {
    "python": {
     "delete_cmd_postfix": "",
     "delete_cmd_prefix": "del ",
     "library": "var_list.py",
     "varRefreshCmd": "print(var_dic_list())"
    },
    "r": {
     "delete_cmd_postfix": ") ",
     "delete_cmd_prefix": "rm(",
     "library": "var_list.r",
     "varRefreshCmd": "cat(var_dic_list()) "
    }
   },
   "types_to_exclude": [
    "module",
    "function",
    "builtin_function_or_method",
    "instance",
    "_Feature"
   ],
   "window_display": false
  }
 },
 "nbformat": 4,
 "nbformat_minor": 4
}
