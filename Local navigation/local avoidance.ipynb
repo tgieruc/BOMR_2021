{
 "cells": [
  {
   "cell_type": "code",
   "execution_count": 5,
   "metadata": {},
   "outputs": [
    {
     "name": "stdout",
     "output_type": "stream",
     "text": [
      "Collecting ipynb\n",
      "  Downloading ipynb-0.5.1-py3-none-any.whl (6.9 kB)\n",
      "Installing collected packages: ipynb\n",
      "Successfully installed ipynb-0.5.1\n",
      "Note: you may need to restart the kernel to use updated packages.\n"
     ]
    }
   ],
   "source": [
    "pip install ipynb"
   ]
  },
  {
   "cell_type": "code",
   "execution_count": 5,
   "metadata": {},
   "outputs": [],
   "source": [
    "import tdmclient.notebook\n",
    "await tdmclient.notebook.start()"
   ]
  },
  {
   "cell_type": "code",
   "execution_count": 122,
   "metadata": {
    "ExecuteTime": {
     "end_time": "2021-09-29T14:44:34.108289Z",
     "start_time": "2021-09-29T14:44:33.639295Z"
    }
   },
   "outputs": [],
   "source": [
    "%%run_python #%%transpile_to_aseba # Change to show the code generated in Aseba\n",
    "\n",
    "#IMPORTANT:\n",
    "#this programm needs to be launched only when the obsatcle is already detected\n",
    "#i.e. the sensors already saw something\n",
    "#otherwise it fucks everything up\n",
    "\n",
    "# This program implements obstacle avoidance using an ANN\n",
    "# The inputs x1-7 are taken from the proximity sensors and scaled\n",
    "# The inputs are multiplied by the weights \n",
    "#   and used to set the motor powers\n",
    "# The center button starts and stops the robot\n",
    "\n",
    "#sates:\n",
    "#0 the robot stops \n",
    "#1 the robot arrives at the obstacle and choses which side to go around goes forward until the sensor chose (1 left or 5 right) doesnt see anythin\n",
    "\n",
    "#3 the robot goes forward 1 thymio length\n",
    "#4 the robot rotates until its sensor (1 or 5) sees the obstacle\n",
    "#5 the robot follows the obstaclke on its length until its sees nothin\n",
    "#6 the robot goes forward to completely avoid the obstacle \n",
    "\n",
    "# State for start and stop, why is this instruction here? (hint: look at the aseba transpile code)\n",
    "adjust = 2000\n",
    "close_thresh = 1\n",
    "time = 0\n",
    "state = 1\n",
    "y = [0,0] \n",
    "timer_period[0] = 10\n",
    "time_one_thym_dist = 150\n",
    "NONE = 0\n",
    "side = NONE \n",
    "    \n",
    "@onevent\n",
    "def button_center():\n",
    "    global state\n",
    "    if button_center == 1:\n",
    "        state = 1 if state==0 else 0\n",
    "\n",
    "@onevent\n",
    "def timer0():\n",
    "    global prox_horizontal, motor_left_target, motor_right_target, button_center, state, y, NONE, side, time\n",
    "    #side constants\n",
    "    LEFT = 1\n",
    "    RIGHT = 2\n",
    "    \n",
    "    #asymetric w_l[1] != w_r[1] so the robot choses one side if it arrives straight on the obstacle\n",
    "    w_l = [10, -15, -10, 6, 0]\n",
    "    w_r = [-10, -10, 10, 0, 6]\n",
    "\n",
    "    # Scale factors for sensors and constant factor\n",
    "    sensor_scale = 400\n",
    "    \n",
    "    \n",
    "    x = [0,0,0,0,0]\n",
    "    \n",
    "    left_prox = prox_horizontal[0]// sensor_scale\n",
    "    right_prox = prox_horizontal[4]// sensor_scale\n",
    "    \n",
    "### STATE 0 the robot stops###    \n",
    "    if state == 0:\n",
    "        time = 0\n",
    "        y = [0,0]\n",
    "        \n",
    "### STATE 1  the robot arrives at the obstacle and choses which side to go around###         \n",
    "    if state == 1:\n",
    "        # Memory\n",
    "        x[3] = y[0]//10\n",
    "        x[4] = y[1]//10        \n",
    "        \n",
    "        for i in range(1,4): #we only take the 3 sensors of the middle\n",
    "            # Get and scale inputs\n",
    "            x[i-1] = prox_horizontal[i] // sensor_scale\n",
    "            \n",
    "        y = [60,60] \n",
    "        tot = x[0]+x[1]+x[2]\n",
    "        \n",
    "        for i in range(len(x)):    \n",
    "            # Compute outputs of neurons and set motor powers\n",
    "            y[0] = y[0] + x[i] * w_l[i]\n",
    "            y[1] = y[1] + x[i] * w_r[i]\n",
    "        \n",
    "        if tot < close_thresh :#the three middle sensors see nothing\n",
    "            if left_prox > close_thresh:\n",
    "                side = LEFT\n",
    "            if right_prox > close_thresh:\n",
    "                side = RIGHT\n",
    "            if left_prox < close_thresh and right_prox < close_thresh: #the thymio turned and stops only if it sees nothin anymore\n",
    "                state = 3\n",
    "    \n",
    "### STATE 3 and 6 : the robot goes forward 1 thymio length ###                   \n",
    "    if state == 3 or state == 6:\n",
    "\n",
    "        time += 1         \n",
    "        if time <= time_one_thym_dist:\n",
    "            y = [160,160]\n",
    "        elif time > time_one_thym_dist:\n",
    "            y = [0,0]\n",
    "            if state == 3:\n",
    "                time = 0\n",
    "                state = 4\n",
    "            if state == 6:\n",
    "                time = 0\n",
    "                state = 0\n",
    "                #state = 0 #stops the robot and terminates the avoidance \n",
    "            \n",
    "### STATE 4 the robot rotates until its sensor (1 or 5) sees the obstacle###   \n",
    "    adj = 5\n",
    "    if state == 4: \n",
    "        if side == RIGHT:\n",
    "            if right_prox <= close_thresh + adj:\n",
    "                y = [160,0]\n",
    "            if right_prox > close_thresh + adj:\n",
    "                state = 5\n",
    "        if side == LEFT:\n",
    "            if left_prox <= close_thresh + adj:\n",
    "                y = [0,160]\n",
    "            if left_prox > close_thresh + adj:\n",
    "                state = 5\n",
    "                \n",
    "### STATE 5 the robot follows the obstacle on its length until its sees nothing###             \n",
    "    if state == 5:\n",
    "        constant_scale = 20\n",
    "        left_prox_adjust = left_prox -adjust//sensor_scale\n",
    "        right_prox_adjust = right_prox -adjust//sensor_scale\n",
    "        if side == RIGHT:\n",
    "            y = [80,80+right_prox_adjust*constant_scale]\n",
    "        if side == LEFT:\n",
    "            y = [80+left_prox_adjust*constant_scale,80]\n",
    "        if left_prox < close_thresh and right_prox < close_thresh:\n",
    "            state = 6\n",
    "        \n",
    "\n",
    "    # Set motor powers\n",
    "    motor_left_target = y[0]\n",
    "    motor_right_target = y[1]\n",
    "                \n",
    "            \n",
    "\n",
    "            "
   ]
  },
  {
   "cell_type": "code",
   "execution_count": null,
   "metadata": {},
   "outputs": [],
   "source": []
  },
  {
   "cell_type": "code",
   "execution_count": null,
   "metadata": {},
   "outputs": [],
   "source": []
  }
 ],
 "metadata": {
  "hide_input": false,
  "kernelspec": {
   "display_name": "Python 3 (ipykernel)",
   "language": "python",
   "name": "python3"
  },
  "language_info": {
   "codemirror_mode": {
    "name": "ipython",
    "version": 3
   },
   "file_extension": ".py",
   "mimetype": "text/x-python",
   "name": "python",
   "nbconvert_exporter": "python",
   "pygments_lexer": "ipython3",
   "version": "3.9.7"
  },
  "toc": {
   "base_numbering": 1,
   "nav_menu": {},
   "number_sections": true,
   "sideBar": true,
   "skip_h1_title": false,
   "title_cell": "Table of Contents",
   "title_sidebar": "Contents",
   "toc_cell": true,
   "toc_position": {},
   "toc_section_display": true,
   "toc_window_display": false
  },
  "varInspector": {
   "cols": {
    "lenName": 16,
    "lenType": 16,
    "lenVar": 40
   },
   "kernels_config": {
    "python": {
     "delete_cmd_postfix": "",
     "delete_cmd_prefix": "del ",
     "library": "var_list.py",
     "varRefreshCmd": "print(var_dic_list())"
    },
    "r": {
     "delete_cmd_postfix": ") ",
     "delete_cmd_prefix": "rm(",
     "library": "var_list.r",
     "varRefreshCmd": "cat(var_dic_list()) "
    }
   },
   "types_to_exclude": [
    "module",
    "function",
    "builtin_function_or_method",
    "instance",
    "_Feature"
   ],
   "window_display": false
  }
 },
 "nbformat": 4,
 "nbformat_minor": 4
}
