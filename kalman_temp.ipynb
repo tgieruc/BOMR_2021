{
 "cells": [
  {
   "cell_type": "code",
   "execution_count": null,
   "metadata": {
    "collapsed": true
   },
   "outputs": [],
   "source": []
  },
  {
   "cell_type": "markdown",
   "metadata": {},
   "source": [
    "## Filtering\n",
    "The filtering was done using a Kalman Filter. We designed it to use the position and the angle given by the camera as measurement and the speed of the robot, given by the sensors of the wheels, as prediction. For simplicity of use, we decided to create a Kalman_Filter class, so we would have less arguments to give to each functions. However, this class needs to have access to the class Vision and to be given the speed of the robot to work properly.  \n"
   ]
  },
  {
   "cell_type": "markdown",
   "metadata": {
    "ExecuteTime": {
     "end_time": "2021-12-12T10:16:20.177388Z",
     "start_time": "2021-12-12T10:16:20.146175Z"
    }
   },
   "source": [
    "### Equations\n",
    "The Kalman filter merge together a prediction of the future state of the system with a measure of these states to be more precise. The prediction is govern by the system equations. In this section, we are going to describe the equations used in the model and the ones used to implement the merging part of the filter. \n",
    "First, we need to convert the informations we get from the sensors to something we can use:\n",
    "$v = (v_r + v_l)/2$. This is the translational speed and $w = (v_r - v_l)/b$, which is the rotationnal speed. $v_r$ is the speed of the right wheel, $v_l$ the left one and $b$ is the width of the robot, wheel to wheel. From $w$, we can compute the variation of angle that the robot does when it moves: $\\alpha = w * \\delta t$.\n",
    "We have three states for our filter, which are $x$, $y$, and $\\theta$, respectively the position on the x and y axis and the orientation from the x axis. The state vector is called $\\rho$ and the vector of input ($[v ; w]$) is called u for simplication of writing. Therefore, the model equation is the following: $\\rho_{k+1} = A * \\rho_k + B * u_k$. We now need to determine the matrixes A and B. For this, we have to know how the system evolve with each steps. For x, we can find that $x_{k+1} = x_k + v * \\cos(\\alpha + \\theta) * \\delta t$ and for y: $y_{k+1} = y_k + v *\\sin(\\alpha + \\theta)* \\delta t$. Finally, for $\\theta$, we have $\\theta_{k+1} = \\theta_k + w *\\delta t$. From this we can find that the matrix A is  \\begin{bmatrix} 1 & 0 & 0\\\\ 0 & 1 & 0 \\\\ 0 & 0 & 1\\end{bmatrix} "
   ]
  },
  {
   "cell_type": "code",
   "execution_count": null,
   "metadata": {},
   "outputs": [],
   "source": []
  }
 ],
 "metadata": {
  "kernelspec": {
   "display_name": "Python 3 (ipykernel)",
   "language": "python",
   "name": "python3"
  },
  "language_info": {
   "codemirror_mode": {
    "name": "ipython",
    "version": 3
   },
   "file_extension": ".py",
   "mimetype": "text/x-python",
   "name": "python",
   "nbconvert_exporter": "python",
   "pygments_lexer": "ipython3",
   "version": "3.9.7"
  },
  "toc": {
   "base_numbering": 1,
   "nav_menu": {},
   "number_sections": true,
   "sideBar": true,
   "skip_h1_title": false,
   "title_cell": "Table of Contents",
   "title_sidebar": "Contents",
   "toc_cell": false,
   "toc_position": {},
   "toc_section_display": true,
   "toc_window_display": false
  }
 },
 "nbformat": 4,
 "nbformat_minor": 1
}